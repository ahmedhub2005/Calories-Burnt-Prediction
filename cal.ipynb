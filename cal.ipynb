{
 "cells": [
  {
   "cell_type": "markdown",
   "id": "313c903a",
   "metadata": {},
   "source": [
    "Loading Libraries and Data"
   ]
  },
  {
   "cell_type": "code",
   "execution_count": null,
   "id": "bd19c962",
   "metadata": {},
   "outputs": [],
   "source": [
    "import pandas as pd\n",
    "import numpy as np\n",
    "import re\n",
    "import matplotlib.pyplot as plt\n",
    "from sklearn.ensemble import RandomForestRegressor\n",
    "from sklearn.ensemble import GradientBoostingRegressor\n",
    "from sklearn.linear_model import LinearRegression\n",
    "from sklearn.tree import DecisionTreeRegressor\n",
    "from sklearn.preprocessing import StandardScaler\n",
    "from sklearn.preprocessing import MinMaxScaler\n",
    "from sklearn import model_selection\n",
    "import seaborn as sns\n",
    "from sklearn.metrics import r2_score\n",
    "from sklearn.model_selection import train_test_split\n",
    "import pickle"
   ]
  },
  {
   "cell_type": "code",
   "execution_count": null,
   "id": "3cf4a9ae",
   "metadata": {},
   "outputs": [],
   "source": [
    "data=pd.read_csv(r\"calories.csv\")"
   ]
  },
  {
   "cell_type": "markdown",
   "id": "6d6d64b5",
   "metadata": {},
   "source": [
    "Data.EXP"
   ]
  },
  {
   "cell_type": "code",
   "execution_count": null,
   "id": "fbf20eb0",
   "metadata": {},
   "outputs": [],
   "source": [
    "data.head()"
   ]
  },
  {
   "cell_type": "code",
   "execution_count": null,
   "id": "6cf250cd",
   "metadata": {},
   "outputs": [],
   "source": [
    "data.describe()"
   ]
  },
  {
   "cell_type": "code",
   "execution_count": null,
   "id": "7f6fcd49",
   "metadata": {},
   "outputs": [],
   "source": [
    "data.info()"
   ]
  },
  {
   "cell_type": "markdown",
   "id": "0b3bdf8c",
   "metadata": {},
   "source": [
    "Visualiz missing values"
   ]
  },
  {
   "cell_type": "code",
   "execution_count": null,
   "id": "5b7af606",
   "metadata": {},
   "outputs": [],
   "source": [
    "sns.heatmap(data.isnull())"
   ]
  },
  {
   "cell_type": "markdown",
   "id": "eb25a13f",
   "metadata": {},
   "source": [
    "Data Visualization "
   ]
  },
  {
   "cell_type": "code",
   "execution_count": null,
   "id": "c5af4a88",
   "metadata": {},
   "outputs": [],
   "source": [
    "sns.countplot(x='Gender', data=data)\n",
    "plt.title(\"Count by Category\"); plt.xticks(rotation=45); plt.show()"
   ]
  },
  {
   "cell_type": "code",
   "execution_count": null,
   "id": "ad010169",
   "metadata": {},
   "outputs": [],
   "source": [
    "sns.histplot(data[\"Calories\"], kde=True)"
   ]
  },
  {
   "cell_type": "code",
   "execution_count": null,
   "id": "ac589c47",
   "metadata": {},
   "outputs": [],
   "source": [
    "plt.hist(data['Age'], bins=30)\n",
    "plt.xlabel(\"Value\"); plt.ylabel(\"Frequency\"); plt.title(\"Histogram\"); plt.show()"
   ]
  },
  {
   "cell_type": "code",
   "execution_count": null,
   "id": "2bb74401",
   "metadata": {},
   "outputs": [],
   "source": [
    "sns.boxplot(x=\"Gender\", y=\"Calories\", data=data)\n",
    "plt.title(\"Boxplot by Category\"); plt.show()"
   ]
  },
  {
   "cell_type": "code",
   "execution_count": null,
   "id": "75eba610",
   "metadata": {},
   "outputs": [],
   "source": [
    "plt.scatter(data['Weight'], data['Height'], alpha=0.6)\n",
    "plt.xlabel(\"W\"); plt.ylabel(\"H\"); plt.title(\"Scatter Plot\"); plt.show()"
   ]
  },
  {
   "cell_type": "code",
   "execution_count": null,
   "id": "fbb97785",
   "metadata": {},
   "outputs": [],
   "source": [
    "sns.pairplot(data[['Age','Heart_Rate','Body_Temp','Calories']], hue='Calories')\n",
    "plt.show()"
   ]
  },
  {
   "cell_type": "code",
   "execution_count": null,
   "id": "00016827",
   "metadata": {},
   "outputs": [],
   "source": [
    "sns.barplot(x='Gender', y='Calories', data=data, estimator=np.mean)\n",
    "plt.title(\"Average Value by Category\"); plt.xticks(rotation=45); plt.show()"
   ]
  },
  {
   "cell_type": "code",
   "execution_count": null,
   "id": "4a5686f7",
   "metadata": {},
   "outputs": [],
   "source": [
    "data[\"Gender\"]=data[\"Gender\"].replace(\n",
    "    {\n",
    "     \"female\":0,\n",
    "     \"male\":1   \n",
    "        \n",
    "    }\n",
    ")"
   ]
  },
  {
   "cell_type": "code",
   "execution_count": null,
   "id": "0d0a1a81",
   "metadata": {},
   "outputs": [],
   "source": [
    "plt.figure(figsize=(8,6))\n",
    "sns.heatmap(data.corr(), annot=True, cmap=\"coolwarm\", fmt=\".2f\")\n",
    "plt.title(\"Correlation Heatmap\")\n",
    "plt.show()"
   ]
  },
  {
   "cell_type": "markdown",
   "id": "10a7b170",
   "metadata": {},
   "source": [
    "Data PreProcessing"
   ]
  },
  {
   "cell_type": "code",
   "execution_count": null,
   "id": "54d7d79e",
   "metadata": {},
   "outputs": [],
   "source": [
    "y=data[\"Calories\"]\n",
    "x=data.drop([\"Calories\"] , axis=1)\n",
    "from sklearn.preprocessing import StandardScaler\n",
    "scaler = StandardScaler()\n",
    "x = scaler.fit_transform(x)\n",
    "x_train , x_test , y_train , y_test =model_selection.train_test_split(x ,y , test_size=0.2,random_state=42 )\n"
   ]
  },
  {
   "cell_type": "code",
   "execution_count": null,
   "id": "73753f76",
   "metadata": {},
   "outputs": [],
   "source": [
    "\n",
    "from sklearn.metrics import classification_report, roc_auc_score, confusion_matrix, ConfusionMatrixDisplay\n",
    "\n",
    "from sklearn.model_selection import cross_val_score\n",
    "\n",
    "models = {\n",
    "    \"Linear Regression\": LinearRegression(),\n",
    "    \"Decision Tree\": DecisionTreeRegressor(),\n",
    "    \"Random Forest\": RandomForestRegressor(\n",
    "        \n",
    "        n_estimators=500,       \n",
    "    max_depth=6,             \n",
    "    min_samples_split=50,   \n",
    "    min_samples_leaf=20,    \n",
    "    max_features=0.3,        \n",
    "    random_state=42),\n",
    "    \"Gradient Boosting\": GradientBoostingRegressor()\n",
    "}\n",
    "\n",
    "for name, model in models.items():\n",
    "    scores = cross_val_score(model, x, y, cv=5, scoring=\"r2\")\n",
    "    print(f\"{name} CV R² scores: {scores}\")\n",
    "    print(f\"{name} Mean R²: {scores.mean():.3f}\")\n",
    "    print(\"-\"*50)\n",
    "\n"
   ]
  },
  {
   "cell_type": "code",
   "execution_count": null,
   "id": "a959ceaf",
   "metadata": {},
   "outputs": [],
   "source": [
    "for name, model in models.items():\n",
    "    model.fit(x_train , y_train)\n",
    "    yr_pred = model.predict(x_test)\n",
    "    plt.scatter(y_test, yr_pred, s=10)\n",
    "    plt.plot([y_test.min(), y_test.max()], [y_train.min(), y_train.max()], 'k--')\n",
    "    plt.xlabel('Actual'); plt.ylabel('Predicted'); plt.title(f'Predicted vs Actual for {name}'); plt.show()"
   ]
  },
  {
   "cell_type": "code",
   "execution_count": null,
   "id": "b5522a4b",
   "metadata": {},
   "outputs": [],
   "source": [
    "    \n",
    "for name, model in models.items():\n",
    "    model.fit(x_train , y_train)\n",
    "    yr_pred = model.predict(x_test)\n",
    "    resid = y_test - yr_pred\n",
    "    plt.scatter(yr_pred, resid, s=10)\n",
    "    plt.axhline(0, linestyle='--')\n",
    "    plt.xlabel('Predicted'); plt.ylabel('Residual'); plt.title(f'Residuals{name}'); plt.show()\n",
    "    "
   ]
  },
  {
   "cell_type": "code",
   "execution_count": null,
   "id": "24f855e6",
   "metadata": {},
   "outputs": [],
   "source": [
    "from sklearn.model_selection import train_test_split, learning_curve, validation_curve\n",
    "    \n",
    "for name, model in models.items():\n",
    "    train_sizes, train_scores, val_scores = learning_curve(\n",
    "        model, x, y, cv=5, scoring='neg_root_mean_squared_error',\n",
    "        train_sizes=np.linspace(0.1, 1.0, 5), n_jobs=-1)\n",
    "    plt.plot(train_sizes, -train_scores.mean(axis=1), marker='o', label='Train RMSE')\n",
    "    plt.plot(train_sizes, -val_scores.mean(axis=1), marker='o', label='Val RMSE')\n",
    "    plt.xlabel('Training examples'); plt.ylabel('RMSE'); plt.title(f'Learning Curve ({name})'); plt.legend(); plt.show()"
   ]
  },
  {
   "cell_type": "code",
   "execution_count": null,
   "id": "5d62b24e",
   "metadata": {},
   "outputs": [],
   "source": [
    "import joblib\n",
    "\n",
    "joblib.dump(model, \"churn_model.pkl\")\n",
    "joblib.dump(scaler, \"scaler.pkl\")\n",
    "\n",
    "\n",
    "model = joblib.load(\"churn_model.pkl\")\n",
    "scaler = joblib.load(\"scaler.pkl\")"
   ]
  }
 ],
 "metadata": {
  "kernelspec": {
   "display_name": ".venv",
   "language": "python",
   "name": "python3"
  },
  "language_info": {
   "codemirror_mode": {
    "name": "ipython",
    "version": 3
   },
   "file_extension": ".py",
   "mimetype": "text/x-python",
   "name": "python",
   "nbconvert_exporter": "python",
   "pygments_lexer": "ipython3",
   "version": "3.11.9"
  }
 },
 "nbformat": 4,
 "nbformat_minor": 5
}
